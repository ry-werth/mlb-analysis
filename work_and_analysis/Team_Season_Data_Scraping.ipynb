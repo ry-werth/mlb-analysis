{
 "cells": [
  {
   "cell_type": "markdown",
   "metadata": {},
   "source": [
    "# Web-Scraping\n",
    "In this Notebook I do all of the scraping for the project.\n",
    "I put the scraped data into Panda dataframes and pickle them so I can grab the data in other notebooks."
   ]
  },
  {
   "cell_type": "code",
   "execution_count": null,
   "metadata": {},
   "outputs": [],
   "source": [
    "from bs4 import BeautifulSoup\n",
    "import requests\n",
    "from selenium import webdriver\n",
    "from selenium.webdriver.common.keys import Keys\n",
    "import time\n",
    "import pandas as pd\n",
    "import pandas as pd\n",
    "import matplotlib.pyplot as plt\n",
    "import seaborn as sns\n",
    "import statsmodels.api as sm\n",
    "%config InlineBackend.figure_formats = ['svg']\n",
    "from mpl_toolkits.mplot3d import Axes3D\n",
    "%matplotlib inline\n",
    "\n",
    "sns.set(context='notebook', style='whitegrid', font_scale=1.2)"
   ]
  },
  {
   "cell_type": "code",
   "execution_count": null,
   "metadata": {
    "scrolled": true
   },
   "outputs": [],
   "source": [
    "# create dictionaries for mapping abbreviations to team names\n",
    "bball_ref_team_abbrv = {\n",
    "    'ARI': 'Arizona Diamondbacks',\n",
    "    'ATL': 'Atlanta Braves',\n",
    "    'BAL': 'Baltimore Orioles',\n",
    "    'BOS': 'Boston Red Sox',\n",
    "    'CHC': 'Chicago Cubs',\n",
    "    'CHW': 'Chicago White Sox',\n",
    "    'CIN': 'Cincinnati Reds',\n",
    "    'CLE': 'Cleveland Indians',\n",
    "    'COL': 'Colorado Rockies',\n",
    "    'DET': 'Detroit Tigers',\n",
    "    'HOU': 'Houston Astros',\n",
    "    'KCR': 'Kansas City Royals',\n",
    "    'ANA': 'Los Angeles Angels',\n",
    "    'LAD': 'Los Angeles Dodgers',\n",
    "    'FLA': 'Miami Marlins',\n",
    "    'MIL': 'Milwaukee Brewers',\n",
    "    'MIN': 'Minnesota Twins',\n",
    "    'NYM': 'New York Mets',\n",
    "    'NYY': 'New York Yankees',\n",
    "    'OAK': 'Oakland Athletics',\n",
    "    'PHI': 'Philadelphia Phillies',\n",
    "    'PIT': 'Pittsburgh Pirates',\n",
    "    'SDP': 'San Diego Padres',\n",
    "    'SFG': 'San Francisco Giants',\n",
    "    'SEA': 'Seattle Mariners',\n",
    "    'STL': 'St. Louis Cardinals',\n",
    "    'TBD': 'Tampa Bay Rays',\n",
    "    'TEX': 'Texas Rangers',\n",
    "    'TOR': 'Toronto Blue Jays',\n",
    "    'WSN': 'Washington Nationals'\n",
    "    \n",
    "}\n",
    "\n",
    "# create lists for the headers of our data\n",
    "\n",
    "offensive_stat_header = ['Year', 'Team', 'Lg', 'W', 'L', 'Finish', 'G', 'PA', 'AB', 'R', 'H', '2B', '3B', 'HR',\n",
    "                         'RBI', 'SB', 'CS', 'BB', 'SO', 'BA', 'OBP', 'SLG', 'OPS', 'E', 'DP', 'Fld%']\n",
    "\n",
    "pitching_stat_header = [\"Year\", 'Team', \"Lg\", \"W\", \"L\", \"Finish\", \"RA/G\", \"ERA\", \"G\", \"CG\", \"tSho\", \"SV\", \"IP\", \"H_A\", \"R_A\", \"ER\", \"HRA\", \n",
    "                        \"BB_A\", \"SO_A\", \"WHIP\", \"SO9\", \"HR9\", \"E_P\", \"DP_P\", \"Fld%_P\", \"PAge\"]"
   ]
  },
  {
   "cell_type": "markdown",
   "metadata": {},
   "source": [
    "# Practice on the Giants Page"
   ]
  },
  {
   "cell_type": "code",
   "execution_count": null,
   "metadata": {},
   "outputs": [],
   "source": [
    "# set the url for the SF Giants batters\n",
    "url = 'https://www.baseball-reference.com/teams/SFG/batteam.shtml' "
   ]
  },
  {
   "cell_type": "code",
   "execution_count": null,
   "metadata": {},
   "outputs": [],
   "source": [
    "# grab and check the response\n",
    "response = requests.get(url)\n",
    "response.status_code"
   ]
  },
  {
   "cell_type": "code",
   "execution_count": null,
   "metadata": {},
   "outputs": [],
   "source": [
    "page = response.text\n",
    "type(page)"
   ]
  },
  {
   "cell_type": "code",
   "execution_count": null,
   "metadata": {},
   "outputs": [],
   "source": [
    "soup = BeautifulSoup(page, \"lxml\")"
   ]
  },
  {
   "cell_type": "code",
   "execution_count": null,
   "metadata": {},
   "outputs": [],
   "source": [
    "# data is produced dynaically... need to use driver and selenium\n",
    "batter_stats_table = soup.find_all(id='div_yby_team_bat_per_game')\n",
    "batter_stats_table"
   ]
  },
  {
   "cell_type": "code",
   "execution_count": null,
   "metadata": {},
   "outputs": [],
   "source": [
    "# set the path and the driver \n",
    "PATH=\"/Applications/chromedriver\"\n",
    "driver = webdriver.Chrome(PATH)\n"
   ]
  },
  {
   "cell_type": "code",
   "execution_count": null,
   "metadata": {},
   "outputs": [],
   "source": [
    "# have the driver grab the url\n",
    "driver.get(\"https://www.baseball-reference.com/teams/SFG/batteam.shtml\")\n",
    "\n",
    "html = driver.page_source\n",
    "soup = BeautifulSoup(html)\n",
    "\n",
    "# now the table has data\n",
    "batter_stats_table = soup.find(id='div_yby_team_bat_per_game');"
   ]
  },
  {
   "cell_type": "code",
   "execution_count": null,
   "metadata": {},
   "outputs": [],
   "source": [
    "# grab all the rows and put the data in a season list\n",
    "headers = batter_stats_table.find('thead').find_all('th')\n",
    "header = [h.text for h in headers]\n",
    "rows = batter_stats_table.find('tbody').find_all('tr')\n",
    "seasons_list = []\n",
    "for r in rows:\n",
    "    year = r.find('th').text\n",
    "    if year.isdigit() and int(year) > 1950:\n",
    "        data = r.find_all('td')\n",
    "        season_stats=[d.text for d in data]\n",
    "        season_stats = [year] + ['SFG'] + season_stats\n",
    "        seasons_list.append(season_stats)"
   ]
  },
  {
   "cell_type": "code",
   "execution_count": null,
   "metadata": {},
   "outputs": [],
   "source": [
    "driver.close()"
   ]
  },
  {
   "cell_type": "code",
   "execution_count": null,
   "metadata": {},
   "outputs": [],
   "source": [
    "# it looks good, lets make this a function\n",
    "pd.DataFrame(seasons_list)"
   ]
  },
  {
   "cell_type": "markdown",
   "metadata": {},
   "source": [
    "# Take what we did above and put it in a function and grab all teams"
   ]
  },
  {
   "cell_type": "code",
   "execution_count": null,
   "metadata": {},
   "outputs": [],
   "source": [
    "def scrape_team_batting_data(team, driver):\n",
    "    # have the driver grab the url\n",
    "    url = \"https://www.baseball-reference.com/teams/{}/batteam.shtml\".format(team)\n",
    "    driver.get(url)\n",
    "    html = driver.page_source\n",
    "    soup = BeautifulSoup(html)\n",
    "    \n",
    "    # grab the table we want (stats per game by year)\n",
    "    batter_stats_table = soup.find(id='div_yby_team_bat_per_game');\n",
    "    \n",
    "    # grab all the rows and put the data in a season list\n",
    "    rows = batter_stats_table.find('tbody').find_all('tr')\n",
    "    seasons_list = []\n",
    "    for r in rows:\n",
    "        year = r.find('th').text\n",
    "        if year.isdigit() and int(year) >= 1950:\n",
    "            data = r.find_all('td')\n",
    "            season_stats=[d.text for d in data]\n",
    "            season_stats = [year] + [team] + season_stats\n",
    "            seasons_list.append(season_stats)\n",
    "            \n",
    "    return(seasons_list)"
   ]
  },
  {
   "cell_type": "code",
   "execution_count": null,
   "metadata": {},
   "outputs": [],
   "source": [
    "def scrape_team_pitching_data(team, driver):\n",
    "    # have the driver grab the url\n",
    "    url = \"https://www.baseball-reference.com/teams/{}/pitchteam.shtml\".format(team)\n",
    "    driver.get(url)\n",
    "    html = driver.page_source\n",
    "    soup = BeautifulSoup(html)\n",
    "    \n",
    "    # grab the table we want (stats per game by year)\n",
    "    pitcher_stats_table = soup.find(id='div_yby_team_pitch_per_game');\n",
    "    \n",
    "    # grab all the rows and put the data in a season list\n",
    "    rows = pitcher_stats_table.find('tbody').find_all('tr')\n",
    "    seasons_list = []\n",
    "    for r in rows:\n",
    "        year = r.find('th').text\n",
    "        if year.isdigit() and int(year) >= 1950:\n",
    "            data = r.find_all('td')\n",
    "            season_stats=[d.text for d in data]\n",
    "            season_stats = [year] + [team] + season_stats\n",
    "            seasons_list.append(season_stats)\n",
    "            \n",
    "    return(seasons_list)"
   ]
  },
  {
   "cell_type": "code",
   "execution_count": null,
   "metadata": {},
   "outputs": [],
   "source": [
    "\"\"\"\n",
    "# run it on the SFG page\n",
    "PATH=\"/Applications/chromedriver\"\n",
    "driver = webdriver.Chrome(PATH)\n",
    "\n",
    "url = \"SFG\"\n",
    "\n",
    "team_batting_data = scrape_team_batting_data(url, driver)\n",
    "\n",
    "driver.close()\n",
    "\n",
    "# it works\n",
    "\"\"\""
   ]
  },
  {
   "cell_type": "code",
   "execution_count": null,
   "metadata": {},
   "outputs": [],
   "source": [
    "teams = list(bball_ref_team_abbrv.keys())"
   ]
  },
  {
   "cell_type": "code",
   "execution_count": null,
   "metadata": {},
   "outputs": [],
   "source": [
    "PATH=\"/Applications/chromedriver\"\n",
    "driver = webdriver.Chrome(PATH)\n",
    "all_batting_data = []\n",
    "all_pitching_data = []\n",
    "for t in teams:\n",
    "    print(t)\n",
    "    team_batting_data = scrape_team_batting_data(t, driver)\n",
    "    all_batting_data = all_batting_data + team_batting_data\n",
    "    \n",
    "    team_pitching_data = scrape_team_pitching_data(t, driver)\n",
    "    all_pitching_data = all_pitching_data + team_pitching_data\n",
    "    \n",
    "    \n",
    "driver.close()"
   ]
  },
  {
   "cell_type": "code",
   "execution_count": null,
   "metadata": {},
   "outputs": [],
   "source": [
    "# add the header \n",
    "all_batting_data.insert(0, offensive_stat_header)\n",
    "all_batting_data"
   ]
  },
  {
   "cell_type": "code",
   "execution_count": null,
   "metadata": {},
   "outputs": [],
   "source": [
    "# add the header \n",
    "all_pitching_data.insert(0, pitching_stat_header)\n",
    "all_pitching_data"
   ]
  },
  {
   "cell_type": "code",
   "execution_count": null,
   "metadata": {},
   "outputs": [],
   "source": [
    "# create data frame\n",
    "all_batting_df = pd.DataFrame(all_batting_data[1:],columns=all_batting_data[0])\n",
    "all_pitching_df = pd.DataFrame(all_pitching_data[1:],columns=all_pitching_data[0])"
   ]
  },
  {
   "cell_type": "code",
   "execution_count": null,
   "metadata": {},
   "outputs": [],
   "source": [
    "len(all_pitching_df.index), len(all_batting_df.index)"
   ]
  },
  {
   "cell_type": "code",
   "execution_count": null,
   "metadata": {},
   "outputs": [],
   "source": [
    "for c in all_batting_df.columns:\n",
    "    try:\n",
    "        all_batting_df[c] = pd.to_numeric(all_batting_df[c])\n",
    "    except:\n",
    "        pass"
   ]
  },
  {
   "cell_type": "code",
   "execution_count": null,
   "metadata": {},
   "outputs": [],
   "source": [
    "for c in all_pitching_df.columns:\n",
    "    try:\n",
    "        all_pitching_df[c] = pd.to_numeric(all_pitching_df[c])\n",
    "    except:\n",
    "        pass"
   ]
  },
  {
   "cell_type": "code",
   "execution_count": null,
   "metadata": {},
   "outputs": [],
   "source": [
    "all_pitching_df.columns = pitching_stat_header"
   ]
  },
  {
   "cell_type": "code",
   "execution_count": null,
   "metadata": {},
   "outputs": [],
   "source": [
    "# pickle this so we dont need to redo\n",
    "all_batting_df.to_pickle(\"full_batting_from_1950_df.pkl\")\n",
    "all_pitching_df.to_pickle(\"full_batting_from_1950_df.pkl\")"
   ]
  },
  {
   "cell_type": "code",
   "execution_count": null,
   "metadata": {},
   "outputs": [],
   "source": [
    "full_baseball_df = pd.merge(all_batting_df, all_pitching_df.drop(columns=[\"Lg\", \"W\", \"L\", \"Finish\",\"G\"]), on=['Year', 'Team'])"
   ]
  },
  {
   "cell_type": "code",
   "execution_count": null,
   "metadata": {},
   "outputs": [],
   "source": [
    "full_baseball_df.head()"
   ]
  },
  {
   "cell_type": "code",
   "execution_count": null,
   "metadata": {},
   "outputs": [],
   "source": [
    "full_baseball_df.to_pickle(\"full_baseball_from_1950_df.pkl\")"
   ]
  },
  {
   "cell_type": "markdown",
   "metadata": {},
   "source": [
    "# Grab Opponent against stats"
   ]
  },
  {
   "cell_type": "code",
   "execution_count": null,
   "metadata": {},
   "outputs": [],
   "source": [
    "url = \"https://www.baseball-reference.com/leagues/MLB/2020-batting-pitching.shtml\""
   ]
  },
  {
   "cell_type": "code",
   "execution_count": null,
   "metadata": {},
   "outputs": [],
   "source": []
  },
  {
   "cell_type": "code",
   "execution_count": null,
   "metadata": {},
   "outputs": [],
   "source": [
    "def scrape_opponent_batting(year, driver):\n",
    "    # have the driver grab the url\n",
    "    print(year)\n",
    "    url = \"https://www.baseball-reference.com/leagues/MLB/{}-batting-pitching.shtml\".format(str(year))\n",
    "    driver.get(url)\n",
    "    time.sleep(0.5)\n",
    "    html = driver.page_source\n",
    "    soup = BeautifulSoup(html)\n",
    "\n",
    "    # now the table has data\n",
    "    stats_table = soup.find(id='teams_batting_pitching');\n",
    "    rows = stats_table.find('tbody').find_all('tr')\n",
    "    all_teams = []\n",
    "    for r in rows:\n",
    "        team = r.find('th').text\n",
    "        if team != 'LgAvg':\n",
    "            data = r.find_all('td')\n",
    "            team_stats=[d.text for d in data]\n",
    "            team_stats = [year] + [team] + team_stats\n",
    "            all_teams.append(team_stats)\n",
    "    return(all_teams)\n",
    "   "
   ]
  },
  {
   "cell_type": "code",
   "execution_count": null,
   "metadata": {},
   "outputs": [],
   "source": [
    "\"\"\"\n",
    "# set the path and the driver \n",
    "PATH=\"/Applications/chromedriver\"\n",
    "driver = webdriver.Chrome(PATH)\n",
    "opponents_2020 = scrape_opponent_batting(2020, driver)\n",
    "driver.close()\n",
    "\"\"\";"
   ]
  },
  {
   "cell_type": "code",
   "execution_count": null,
   "metadata": {},
   "outputs": [],
   "source": [
    "PATH=\"/Applications/chromedriver\"\n",
    "driver = webdriver.Chrome(PATH)\n",
    "full_list = []\n",
    "for i in range(1950, 2021):\n",
    "    opponents_yearly = scrape_opponent_batting(i, driver)  \n",
    "    full_list = full_list + opponents_yearly\n",
    "    \n",
    "driver.close()"
   ]
  },
  {
   "cell_type": "code",
   "execution_count": null,
   "metadata": {},
   "outputs": [],
   "source": [
    "opponent_headers = [\"Year\", \"Team\", \"RA/G\", \"PAu\", \"G\", \"PA\", \"AB\", \"R\", \"H\", \"2B\", \"3B\", \"HR\", \"SB\", \n",
    "                    \"CS\", \"BB\", \"SO\", \"BA\", \"OBP\", \"SLG\", \"OPS\", \"BAbip\", \"TB\", \"GDP\", \"HBP\", \"SH\", \n",
    "                    \"SF\", \"IBB\", \"ROE\"]\n"
   ]
  },
  {
   "cell_type": "code",
   "execution_count": null,
   "metadata": {},
   "outputs": [],
   "source": [
    "opponents_df = pd.DataFrame(full_list,columns=opponent_headers)\n",
    "opponents_df"
   ]
  },
  {
   "cell_type": "code",
   "execution_count": null,
   "metadata": {},
   "outputs": [],
   "source": [
    "opponents_df.Team.unique()"
   ]
  },
  {
   "cell_type": "code",
   "execution_count": null,
   "metadata": {},
   "outputs": [],
   "source": [
    "bball_ref_team_abbrv_convert = {\n",
    "    'MLN': 'ATL',\n",
    "    'BRO': 'LAD',\n",
    "    'BSN': 'ATL',\n",
    "    'NYG': 'SFG',\n",
    "    'PHA': 'OAK',\n",
    "    'SLB': 'BAL',\n",
    "    'KCA': 'OAK',\n",
    "    'WSA': 'TEX',\n",
    "    'CAL': 'ANA',\n",
    "    'MON': 'WSN',\n",
    "    'SEP': 'MIL',\n",
    "    'LAA': 'ANA',\n",
    "    'WSH': 'MIN',\n",
    "    'TBR': 'TBD',\n",
    "    'MIA': 'FLA',\n",
    "    'ARI': 'ARI',\n",
    "    'ATL': 'ATL',\n",
    "    'BAL': 'BAL',\n",
    "    'BOS': 'BOS',\n",
    "    'CHC': 'CHC',\n",
    "    'CHW': 'CHW',\n",
    "    'CIN': 'CIN',\n",
    "    'CLE': 'CLE',\n",
    "    'COL': 'COL',\n",
    "    'DET': 'DET',\n",
    "    'HOU': 'HOU',\n",
    "    'KCR': 'KCR',\n",
    "    'ANA': 'ANA',\n",
    "    'LAD': 'LAD',\n",
    "    'FLA': 'FLA',\n",
    "    'MIL': 'MIL',\n",
    "    'MIN': 'MIN',\n",
    "    'NYM': 'NYM',\n",
    "    'NYY': 'NYY',\n",
    "    'OAK': 'OAK',\n",
    "    'PHI': 'PHI',\n",
    "    'PIT': 'PIT',\n",
    "    'SDP': 'SDP',\n",
    "    'SFG': 'SFG',\n",
    "    'SEA': 'SEA',\n",
    "    'STL': 'STL',\n",
    "    'TBD': 'TBD',\n",
    "    'TEX': 'TEX',\n",
    "    'TOR': 'TOR',\n",
    "    'WSN': 'WSN',\n",
    "}"
   ]
  },
  {
   "cell_type": "code",
   "execution_count": null,
   "metadata": {},
   "outputs": [],
   "source": [
    "opponents_df.Team = opponents_df.Team.map(bball_ref_team_abbrv_convert, na_action='ignore')"
   ]
  },
  {
   "cell_type": "code",
   "execution_count": null,
   "metadata": {},
   "outputs": [],
   "source": [
    "opponents_df.Team.unique()"
   ]
  },
  {
   "cell_type": "code",
   "execution_count": null,
   "metadata": {},
   "outputs": [],
   "source": [
    "for c in opponents_df.columns:\n",
    "    try:\n",
    "        opponents_df[c] = pd.to_numeric(opponents_df[c])\n",
    "    except:\n",
    "        pass"
   ]
  },
  {
   "cell_type": "code",
   "execution_count": null,
   "metadata": {},
   "outputs": [],
   "source": [
    "opponents_df.to_pickle(\"opponents_from_1950_df.pkl\")"
   ]
  },
  {
   "cell_type": "code",
   "execution_count": null,
   "metadata": {},
   "outputs": [],
   "source": []
  }
 ],
 "metadata": {
  "kernelspec": {
   "display_name": "Python 3",
   "language": "python",
   "name": "python3"
  },
  "language_info": {
   "codemirror_mode": {
    "name": "ipython",
    "version": 3
   },
   "file_extension": ".py",
   "mimetype": "text/x-python",
   "name": "python",
   "nbconvert_exporter": "python",
   "pygments_lexer": "ipython3",
   "version": "3.7.4"
  }
 },
 "nbformat": 4,
 "nbformat_minor": 2
}
